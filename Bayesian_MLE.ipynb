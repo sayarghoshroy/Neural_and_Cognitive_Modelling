{
  "nbformat": 4,
  "nbformat_minor": 0,
  "metadata": {
    "colab": {
      "name": "Bayesian_MLE.ipynb",
      "provenance": [],
      "collapsed_sections": [],
      "authorship_tag": "ABX9TyOtuo36Aq20LkVeXfa0Dibs",
      "include_colab_link": true
    },
    "kernelspec": {
      "display_name": "Python 3",
      "language": "python",
      "name": "python3"
    },
    "language_info": {
      "codemirror_mode": {
        "name": "ipython",
        "version": 3
      },
      "file_extension": ".py",
      "mimetype": "text/x-python",
      "name": "python",
      "nbconvert_exporter": "python",
      "pygments_lexer": "ipython3",
      "version": "3.7.3"
    }
  },
  "cells": [
    {
      "cell_type": "markdown",
      "metadata": {
        "id": "view-in-github",
        "colab_type": "text"
      },
      "source": [
        "<a href=\"https://colab.research.google.com/github/sayarghoshroy/Neural_and_Cognitive_Modelling/blob/master/Bayesian_MLE.ipynb\" target=\"_parent\"><img src=\"https://colab.research.google.com/assets/colab-badge.svg\" alt=\"Open In Colab\"/></a>"
      ]
    },
    {
      "cell_type": "markdown",
      "metadata": {
        "id": "TKbVpdE36leB",
        "colab_type": "text"
      },
      "source": [
        "# $Introduction\\ to\\ Neural\\ and\\ Cognitive\\ Modelling$\n",
        "\n",
        "# $Assignment\\ 4$\n",
        "\n",
        "# $Sayar\\ Ghosh\\ Roy\\ (20171047)$"
      ]
    },
    {
      "cell_type": "markdown",
      "metadata": {
        "colab_type": "text",
        "id": "OLeDq5gjS3z9"
      },
      "source": [
        "#*Solution to Part 1*\n",
        "\n",
        "$m = r(S) + n$\n",
        "\n",
        "$\\implies m = 10 + \\frac{50}{1\\ +\\ exp\\big(-\\frac{S\\ -\\ 0.25}{0.15}\\big) }\\ +\\ n$\n",
        "\n",
        "$where\\ p(n)\\ =\\ \\frac{1}{\\sqrt{2\\pi}(5)}.exp\\bigg(-\\frac{n^2}{2(5)^2}\\bigg)$\n",
        "\n",
        "$i.e\\ p(n) \\approx G(\\mu = 0,\\ \\sigma = 5)$\n",
        "\n",
        "$We\\ have:$\n",
        "\n",
        "$\\frac{50}{1\\ +\\ exp\\big(-\\frac{S\\ -\\ 0.25}{0.15}\\big) }\\ =\\ m\\ -\\ n\\ -\\ 10$\n",
        "\n",
        "$\\implies 1\\ +\\ exp\\big(-\\frac{S\\ -\\ 0.25}{0.15}\\big)\\ =\\ \\frac{50}{m\\ -\\ n\\ - 10}$\n",
        "\n",
        "$\\implies exp\\big(-\\frac{S\\ -\\ 0.25}{0.15}\\big)\\ =\\ \\frac{50}{m\\ -\\ n\\ - 10}\\ -\\ 1$\n",
        "\n",
        "$\\implies -\\frac{S\\ -\\ 0.25}{0.15} = ln(\\frac{50}{m\\ -\\ n\\ - 10}\\ -\\ 1)$ \n",
        "\n",
        "$\\implies\\ S\\ =\\ \\frac{25}{100}\\ -\\ \\frac{15}{100}ln(\\frac{50}{m\\ -\\ n\\ - 10}\\ -\\ 1)$\n",
        "\n",
        "$if\\ we\\ set\\ m\\ =\\ 58,\\ we\\ get:$\n",
        "\n",
        "$S\\ =\\ \\frac{25}{100}\\ -\\ \\frac{15}{100}.ln(\\frac{50}{48\\ -\\ n}\\ -\\ 1)$\n",
        "\n",
        "$Now,\\ S \\in\\ [0,\\ 1]$\n",
        "\n",
        "$To\\ compute\\ n\\ from\\ S:$\n",
        "\n",
        "$n\\ =\\ m\\ -\\ 10\\ -\\ \\frac{50}{1\\ +\\ exp\\big(-\\frac{S\\ -\\ 0.25}{0.15}\\big) }$\n",
        "\n",
        "$and\\ with\\ m\\ set\\ to\\ 58,$\n",
        "\n",
        "$n\\ =\\ 48\\ -\\ \\frac{50}{1\\ +\\ exp\\big(-\\frac{S\\ -\\ 0.25}{0.15}\\big) }$\n",
        "\n",
        "$We\\ have\\ a\\ Gaussian\\ model\\ for\\ p(n).\\ Every\\ S\\ gives\\ us\\ a\\ unique\\ n.\\ Thus,\\ we\\ can\\ estimate\\ L(S; m)\\ as:$\n",
        "\n",
        "$\\frac{1}{\\sqrt{2\\pi}(5)}.exp\\Bigg(\\frac{-1}{2(5)^2}\\bigg(m\\ -\\ 10\\ -\\ \\frac{50}{1\\ +\\ exp\\big(-\\frac{S\\ -\\ 0.25}{0.15}\\big) }\\bigg)^2\\Bigg)$\n",
        "\n",
        "$-\\ We\\ use\\ the\\ above\\ relation\\ to\\ obtain\\ L(S; 58)$"
      ]
    },
    {
      "cell_type": "code",
      "metadata": {
        "colab_type": "code",
        "id": "v-J5wGuRe490",
        "outputId": "062b53c6-5ba8-4a80-8626-0a1071420523",
        "colab": {
          "base_uri": "https://localhost:8080/",
          "height": 513
        }
      },
      "source": [
        "import numpy as np\n",
        "import matplotlib.pyplot as plt\n",
        "\n",
        "size = 10000\n",
        "# Number of values used for plotting and estimations\n",
        "\n",
        "def L(s, m = 58):\n",
        "    # Estimate the Likelihood L(S; m)\n",
        "    calc = np.power((m - 10 - 50 / (1 + np.exp(- (s - 0.25) / 0.15))), 2) * (-1 / 50)\n",
        "    return (1 / 5 * np.sqrt(2 * np.pi)) * np.exp(calc)\n",
        "\n",
        "S_values = [(i / size) for i in range(size)]\n",
        "L_values = [L(s) for s in S_values]\n",
        "\n",
        "fig = plt.figure(figsize=(12,8))\n",
        "plt.xlabel('S')\n",
        "plt.ylabel('L(S; 58)')\n",
        "plt.title(\"Plot of L(S; 58) versus S\")\n",
        "plt.plot(S_values, L_values)\n",
        "plt.show()"
      ],
      "execution_count": 1,
      "outputs": [
        {
          "output_type": "display_data",
          "data": {
            "image/png": "[encoded data removed]",
            "text/plain": [
              "<Figure size 864x576 with 1 Axes>"
            ]
          },
          "metadata": {
            "tags": [],
            "needs_background": "light"
          }
        }
      ]
    },
    {
      "cell_type": "markdown",
      "metadata": {
        "colab_type": "text",
        "id": "Wpp2caBFznnb"
      },
      "source": [
        "#*Solution to Part 2*\n",
        "\n",
        "$For\\ ease\\ of\\ representation,\\ let\\ us\\ define\\ a\\ few\\ terms:$\n",
        "\n",
        "- $A\\ =\\ \\frac{-1}{2(5)^2}\\bigg(m\\ -\\ 10\\ -\\ \\frac{50}{1\\ +\\ exp\\big(-\\frac{S\\ -\\ 0.25}{0.15}\\big)} \\bigg)^2$\n",
        "\n",
        "- $B\\ =\\ \\bigg(m\\ -\\ 10\\ -\\ \\frac{50}{1\\ +\\ exp\\big(-\\frac{S\\ -\\ 0.25}{0.15}\\big)} \\bigg)$\n",
        "\n",
        "- $C\\ =\\ {1\\ +\\ exp\\big(-\\frac{S\\ -\\ 0.25}{0.15}\\big)}$\n",
        "\n",
        "$To\\ estimate\\ maximum\\ likelihood,\\ we\\ differentiate\\ p(S)\\ w.r.t\\ \\ p:$\n",
        "\n",
        "$\\therefore\\ p'(s)\\ =\\ \\frac{1}{\\sqrt{2\\pi}(5)}.exp(A).\\Big(\\frac{-1}{2(5)^2}\\Big).2.B.\\frac{+50}{C^2}.\\bigg(exp\\Big(-\\frac{S-0.25}{0.15}\\Big)\\bigg).\\frac{-S}{0.15}$\n",
        "\n",
        "$Now,\\ we\\ equate\\ p'(s)\\ to\\ 0\\ to\\ obtain\\ critical\\ points:$\n",
        "\n",
        "$p'(s)\\ =\\ 0$\n",
        "\n",
        "$\\implies B\\ =\\ 0\\ or\\ S\\ =\\ 0$\n",
        "\n",
        "$Note\\ that:\\ B\\ =\\ 0 \\implies A\\ =\\ 0$\n",
        "\n",
        "$And:\\ exp(A),\\ \\frac{50}{C^2},\\ exp\\Big(-\\frac{S-0.25}{0.15}\\Big)\\ \\neq\\ 0$\n",
        "\n",
        "$Now,\\ S = 0\\ is\\ a\\ boundary\\ point\\ and\\ L(0;\\ 58) \\approx 0$\n",
        "\n",
        "$Hence,$\n",
        "\n",
        "$B = 0$\n",
        "\n",
        "$\\implies \\bigg(m\\ -\\ 10\\ -\\ \\frac{50}{1\\ +\\ exp\\big(-\\frac{S^*\\ -\\ 0.25}{0.15}\\big)} \\bigg) = 0$\n",
        "\n",
        "$\\implies \\frac{50}{1\\ +\\ exp\\big(-\\frac{S^*\\ -\\ 0.25}{0.15}\\big)} = m - 10$\n",
        "\n",
        "$\\implies 1\\ +\\ exp\\big(-\\frac{S^*\\ -\\ 0.25}{0.15}\\big) = \\frac{50}{m-10}$\n",
        "\n",
        "$\\implies exp\\big(-\\frac{S^*\\ -\\ 0.25}{0.15}\\big) = \\frac{50}{m-10} - 1$\n",
        "\n",
        "$\\implies -\\frac{S^*\\ -\\ 0.25}{0.15} = ln\\Big(\\frac{50}{m-10} - 1 \\Big)$\n",
        "\n",
        "$\\implies S^* = -\\frac{15}{100}.ln\\Big(\\frac{50}{m-10} - 1 \\Big) + \\frac{25}{100}$"
      ]
    },
    {
      "cell_type": "code",
      "metadata": {
        "colab_type": "code",
        "id": "WWZxw41bhlwK",
        "outputId": "038353f9-a799-4830-d8bb-73f1fe310c7f",
        "colab": {
          "base_uri": "https://localhost:8080/",
          "height": 54
        }
      },
      "source": [
        "def get_S_optima(m):\n",
        "    return -0.15 * np.log(50/48 - 1) + 0.25\n",
        "\n",
        "def get_maximum_likelihood(m):\n",
        "    return L(get_S_optima(m))\n",
        "\n",
        "best_S = get_S_optima(58)\n",
        "best_ML = get_maximum_likelihood(58)\n",
        "\n",
        "print(\"S* = \" + str(best_S))\n",
        "print(\"L* = \" + str(best_ML))"
      ],
      "execution_count": 2,
      "outputs": [
        {
          "output_type": "stream",
          "text": [
            "S* = 0.7267080745521916\n",
            "L* = 0.5013256549262001\n"
          ],
          "name": "stdout"
        }
      ]
    },
    {
      "cell_type": "markdown",
      "metadata": {
        "colab_type": "text",
        "id": "pqXJpioH1lb0"
      },
      "source": [
        "$Setting\\ m\\ =\\ 58:$\n",
        "\n",
        "$S^* = -\\frac{15}{100}.ln\\Big(\\frac{50}{48} - 1 \\Big) + \\frac{25}{100} = 0.72670807455$\n",
        "\n",
        "$-\\ is\\ the\\ required\\ S\\ that\\ maximizes\\ L(S;\\ 58)$\n",
        "\n",
        "$We\\ verify\\ using:\\$\n",
        "\n",
        "- $Estimating\\ from\\ the\\ plot\\ of\\ L\\ versus\\ S$\n",
        "\n",
        "- $Iteratively\\ checking\\ computed\\ L\\ values\\ to\\ get\\ an\\ estimate\\ of\\ which\\ S\\ maximizes\\ L$"
      ]
    },
    {
      "cell_type": "code",
      "metadata": {
        "colab_type": "code",
        "id": "YofoPAIxoEiT",
        "outputId": "3c6fcfa9-ee2b-4840-cf1d-8ea86c10149a",
        "colab": {
          "base_uri": "https://localhost:8080/",
          "height": 35
        }
      },
      "source": [
        "# Iteratively Checking L values to find which S maximizes L\n",
        "\n",
        "def get_best_S_approx():\n",
        "    position = np.argmax(np.asarray(L_values))\n",
        "    return (position / size)\n",
        "\n",
        "S_best_approx = get_best_S_approx()\n",
        "\n",
        "print(\"An Approximation to S* using computed values: S*_approx = \" + str(S_best_approx))"
      ],
      "execution_count": 3,
      "outputs": [
        {
          "output_type": "stream",
          "text": [
            "An Approximation to S* using computed values: S*_approx = 0.7267\n"
          ],
          "name": "stdout"
        }
      ]
    },
    {
      "cell_type": "markdown",
      "metadata": {
        "colab_type": "text",
        "id": "e8me70gu25Z-"
      },
      "source": [
        "$-\\ Clearly\\ everything\\ checks\\ out\\ and \\rightarrow$\n",
        "\n",
        "$S^*\\ =\\ 0.727,\\ and\\ L^*\\ =\\ 0.501\\ are\\ optimum\\ values\\ for\\ S\\ and\\ L\\ respectively.$"
      ]
    },
    {
      "cell_type": "markdown",
      "metadata": {
        "colab_type": "text",
        "id": "7JMDDfG_3X6Y"
      },
      "source": [
        "#$Thank\\ \\ You$"
      ]
    }
  ]
}